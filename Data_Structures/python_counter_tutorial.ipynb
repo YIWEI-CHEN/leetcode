{
 "cells": [
  {
   "cell_type": "markdown",
   "id": "cdabf8df",
   "metadata": {},
   "source": [
    "# Python Counter Tutorial\n",
    "\n",
    "The `Counter` class from the `collections` module is a powerful tool for counting hashable objects. It's a subclass of `dict` that's specially designed for counting objects.\n",
    "\n",
    "## What is Counter?\n",
    "\n",
    "Counter is a dictionary subclass for counting hashable objects. It's essentially a collection where elements are stored as dictionary keys and their counts are stored as values."
   ]
  },
  {
   "cell_type": "markdown",
   "id": "3348bb77",
   "metadata": {},
   "source": [
    "## Importing Counter"
   ]
  },
  {
   "cell_type": "code",
   "execution_count": 1,
   "id": "bedbebd2",
   "metadata": {},
   "outputs": [],
   "source": [
    "from collections import Counter\n",
    "import collections"
   ]
  },
  {
   "cell_type": "markdown",
   "id": "0d4c290b",
   "metadata": {},
   "source": [
    "## Basic Usage\n",
    "\n",
    "### Creating a Counter"
   ]
  },
  {
   "cell_type": "code",
   "execution_count": 2,
   "id": "9ddb8bf8",
   "metadata": {},
   "outputs": [
    {
     "name": "stdout",
     "output_type": "stream",
     "text": [
      "Empty counter: Counter()\n",
      "From string: Counter({'l': 3, 'o': 2, 'h': 1, 'e': 1, ' ': 1, 'w': 1, 'r': 1, 'd': 1})\n",
      "From list: Counter({1: 3, 2: 2, 3: 1})\n",
      "From dict: Counter({'a': 3, 'b': 1})\n"
     ]
    }
   ],
   "source": [
    "# Empty counter\n",
    "counter1 = Counter()\n",
    "print(f\"Empty counter: {counter1}\")\n",
    "\n",
    "# Counter from a string\n",
    "counter2 = Counter('hello world')\n",
    "print(f\"From string: {counter2}\")\n",
    "\n",
    "# Counter from a list\n",
    "counter3 = Counter([1, 2, 3, 1, 2, 1])\n",
    "print(f\"From list: {counter3}\")\n",
    "\n",
    "# Counter from a dictionary\n",
    "counter4 = Counter({'a': 3, 'b': 1})\n",
    "print(f\"From dict: {counter4}\")"
   ]
  },
  {
   "cell_type": "markdown",
   "id": "7916fc1b",
   "metadata": {},
   "source": [
    "## Practical Examples\n",
    "\n",
    "### Example 1: Counting Characters in a String"
   ]
  },
  {
   "cell_type": "code",
   "execution_count": 3,
   "id": "e561cd54",
   "metadata": {},
   "outputs": [
    {
     "name": "stdout",
     "output_type": "stream",
     "text": [
      "Character counts in 'leetcode': Counter({'e': 3, 'l': 1, 't': 1, 'c': 1, 'o': 1, 'd': 1})\n",
      "Most common: [('e', 3), ('l', 1), ('t', 1), ('c', 1), ('o', 1), ('d', 1)]\n",
      "Top 2 most common: [('e', 3), ('l', 1)]\n"
     ]
    }
   ],
   "source": [
    "text = \"leetcode\"\n",
    "char_count = Counter(text)\n",
    "print(f\"Character counts in '{text}': {char_count}\")\n",
    "\n",
    "# Most common characters\n",
    "print(f\"Most common: {char_count.most_common()}\")\n",
    "print(f\"Top 2 most common: {char_count.most_common(2)}\")"
   ]
  },
  {
   "cell_type": "markdown",
   "id": "0fff76cc",
   "metadata": {},
   "source": [
    "### Example 2: Counting Elements in a List (like the Sort Colors problem)"
   ]
  },
  {
   "cell_type": "code",
   "execution_count": 4,
   "id": "c7d13c72",
   "metadata": {},
   "outputs": [
    {
     "name": "stdout",
     "output_type": "stream",
     "text": [
      "Color counts: Counter({2: 2, 0: 2, 1: 2})\n",
      "Count of 0s: 2\n",
      "Count of 1s: 2\n",
      "Count of 2s: 2\n",
      "Sorted array: [0, 0, 1, 1, 2, 2]\n"
     ]
    }
   ],
   "source": [
    "# Similar to the sort colors problem\n",
    "nums = [2, 0, 2, 1, 1, 0]\n",
    "color_count = Counter(nums)\n",
    "print(f\"Color counts: {color_count}\")\n",
    "\n",
    "# Accessing specific counts\n",
    "print(f\"Count of 0s: {color_count[0]}\")\n",
    "print(f\"Count of 1s: {color_count[1]}\")\n",
    "print(f\"Count of 2s: {color_count[2]}\")\n",
    "\n",
    "# Reconstruct sorted array using counts\n",
    "sorted_nums = []\n",
    "for color in range(3):\n",
    "    sorted_nums.extend([color] * color_count[color])\n",
    "print(f\"Sorted array: {sorted_nums}\")"
   ]
  },
  {
   "cell_type": "markdown",
   "id": "f767b933",
   "metadata": {},
   "source": [
    "## Counter Methods and Operations\n",
    "\n",
    "### Basic Methods"
   ]
  },
  {
   "cell_type": "code",
   "execution_count": 5,
   "id": "22ffd1b0",
   "metadata": {},
   "outputs": [
    {
     "name": "stdout",
     "output_type": "stream",
     "text": [
      "Original counter: Counter({'a': 5, 'b': 2, 'r': 2, 'c': 1, 'd': 1})\n",
      "Elements: ['a', 'a', 'a', 'a', 'a', 'b', 'b', 'r', 'r', 'c', 'd']\n",
      "Most common (all): [('a', 5), ('b', 2), ('r', 2), ('c', 1), ('d', 1)]\n",
      "Most common (3): [('a', 5), ('b', 2), ('r', 2)]\n",
      "Total count: 11\n"
     ]
    }
   ],
   "source": [
    "counter = Counter('abracadabra')\n",
    "print(f\"Original counter: {counter}\")\n",
    "\n",
    "# elements() - returns an iterator over elements\n",
    "print(f\"Elements: {list(counter.elements())}\")\n",
    "\n",
    "# most_common(n) - returns n most common elements\n",
    "print(f\"Most common (all): {counter.most_common()}\")\n",
    "print(f\"Most common (3): {counter.most_common(3)}\")\n",
    "\n",
    "# total() - sum of all counts (Python 3.10+)\n",
    "try:\n",
    "    print(f\"Total count: {counter.total()}\")\n",
    "except AttributeError:\n",
    "    print(f\"Total count: {sum(counter.values())}\")"
   ]
  },
  {
   "cell_type": "markdown",
   "id": "25995381",
   "metadata": {},
   "source": [
    "### Updating Counters"
   ]
  },
  {
   "cell_type": "code",
   "execution_count": 6,
   "id": "82d97387",
   "metadata": {},
   "outputs": [
    {
     "name": "stdout",
     "output_type": "stream",
     "text": [
      "Initial: Counter({'a': 1, 'b': 1, 'c': 1})\n",
      "After update('aab'): Counter({'a': 3, 'b': 2, 'c': 1})\n",
      "After subtract('ab'): Counter({'a': 2, 'b': 1, 'c': 1})\n",
      "After incrementing 'd': Counter({'a': 2, 'b': 1, 'c': 1, 'd': 1})\n"
     ]
    }
   ],
   "source": [
    "counter = Counter('abc')\n",
    "print(f\"Initial: {counter}\")\n",
    "\n",
    "# update() - add counts from another iterable\n",
    "counter.update('aab')\n",
    "print(f\"After update('aab'): {counter}\")\n",
    "\n",
    "# subtract() - subtract counts\n",
    "counter.subtract('ab')\n",
    "print(f\"After subtract('ab'): {counter}\")\n",
    "\n",
    "# Manual increment/decrement\n",
    "counter['d'] += 1\n",
    "print(f\"After incrementing 'd': {counter}\")"
   ]
  },
  {
   "cell_type": "markdown",
   "id": "1039e1dd",
   "metadata": {},
   "source": [
    "### How most_common() is Sorted\n",
    "\n",
    "The `most_common()` method returns elements sorted by their counts in **descending order** (highest count first). When there are ties (elements with the same count), they are ordered by their **first encounter** in the original data."
   ]
  },
  {
   "cell_type": "code",
   "execution_count": 7,
   "id": "300cc8ed",
   "metadata": {},
   "outputs": [
    {
     "name": "stdout",
     "output_type": "stream",
     "text": [
      "Text: 'aabbbbcccc'\n",
      "Counter: Counter({'b': 4, 'c': 4, 'a': 2})\n",
      "most_common(): [('b', 4), ('c', 4), ('a', 2)]\n",
      "Sorted by count (descending): c(4) > b(4) > a(2)\n",
      "\n",
      "Text: 'abcabc'\n",
      "Counter: Counter({'a': 2, 'b': 2, 'c': 2})\n",
      "most_common(): [('a', 2), ('b', 2), ('c', 2)]\n",
      "With ties, order follows first encounter: a, b, c\n",
      "\n",
      "Text: 'xyzxyzabc'\n",
      "Counter: Counter({'x': 2, 'y': 2, 'z': 2, 'a': 1, 'b': 1, 'c': 1})\n",
      "most_common(): [('x', 2), ('y', 2), ('z', 2), ('a', 1), ('b', 1), ('c', 1)]\n",
      "Groups by frequency: [x,y,z](2 each) then [a,b,c](1 each)\n",
      "\n",
      "Text: 'zyxzyx'\n",
      "Counter: Counter({'z': 2, 'y': 2, 'x': 2})\n",
      "most_common(): [('z', 2), ('y', 2), ('x', 2)]\n",
      "NOT alphabetical! Order is z, y, x (first encounter order)\n"
     ]
    }
   ],
   "source": [
    "# Demonstrate most_common() sorting behavior\n",
    "from collections import Counter\n",
    "\n",
    "# Example 1: Clear frequency differences\n",
    "text1 = \"aabbbbcccc\"\n",
    "counter1 = Counter(text1)\n",
    "print(f\"Text: '{text1}'\")\n",
    "print(f\"Counter: {counter1}\")\n",
    "print(f\"most_common(): {counter1.most_common()}\")\n",
    "print(f\"Sorted by count (descending): c(4) > b(4) > a(2)\")\n",
    "print()\n",
    "\n",
    "# Example 2: Ties are resolved by first encounter\n",
    "text2 = \"abcabc\"  # a, b, c all appear twice, but 'a' appears first\n",
    "counter2 = Counter(text2)\n",
    "print(f\"Text: '{text2}'\")\n",
    "print(f\"Counter: {counter2}\")\n",
    "print(f\"most_common(): {counter2.most_common()}\")\n",
    "print(f\"With ties, order follows first encounter: a, b, c\")\n",
    "print()\n",
    "\n",
    "# Example 3: Mixed frequencies with ties\n",
    "text3 = \"xyzxyzabc\"  # x,y,z appear 2 times each, a,b,c appear 1 time each\n",
    "counter3 = Counter(text3)\n",
    "print(f\"Text: '{text3}'\")\n",
    "print(f\"Counter: {counter3}\")\n",
    "print(f\"most_common(): {counter3.most_common()}\")\n",
    "print(f\"Groups by frequency: [x,y,z](2 each) then [a,b,c](1 each)\")\n",
    "print()\n",
    "\n",
    "# Example 4: Demonstrating that it's NOT alphabetical for ties\n",
    "text4 = \"zyxzyx\"  # z,y,x all appear twice, z appears first (not alphabetical)\n",
    "counter4 = Counter(text4)\n",
    "print(f\"Text: '{text4}'\")\n",
    "print(f\"Counter: {counter4}\")\n",
    "print(f\"most_common(): {counter4.most_common()}\")\n",
    "print(f\"NOT alphabetical! Order is z, y, x (first encounter order)\")"
   ]
  },
  {
   "cell_type": "markdown",
   "id": "c9b2175b",
   "metadata": {},
   "source": [
    "### Custom Sorting: Frequency (Descending) + Alphabetical (Ascending)\n",
    "\n",
    "Sometimes you want to sort by frequency first, but break ties alphabetically. Here's how to achieve that custom sorting:"
   ]
  },
  {
   "cell_type": "code",
   "execution_count": 8,
   "id": "965abafb",
   "metadata": {},
   "outputs": [
    {
     "name": "stdout",
     "output_type": "stream",
     "text": [
      "Text: 'zyxaabbccddee'\n",
      "Counter: Counter({'a': 2, 'b': 2, 'c': 2, 'd': 2, 'e': 2, 'z': 1, 'y': 1, 'x': 1})\n",
      "\n",
      "Default most_common():\n",
      "  'a': 2\n",
      "  'b': 2\n",
      "  'c': 2\n",
      "  'd': 2\n",
      "  'e': 2\n",
      "  'z': 1\n",
      "  'y': 1\n",
      "  'x': 1\n",
      "\n",
      "Custom sort (frequency desc, then alphabetical asc):\n",
      "  'a': 2\n",
      "  'b': 2\n",
      "  'c': 2\n",
      "  'd': 2\n",
      "  'e': 2\n",
      "  'x': 1\n",
      "  'y': 1\n",
      "  'z': 1\n",
      "\n",
      "Words: ['zebra', 'apple', 'banana', 'zebra', 'apple', 'cat']\n",
      "Word counter: Counter({'zebra': 2, 'apple': 2, 'banana': 1, 'cat': 1})\n",
      "\n",
      "Default most_common():\n",
      "  'zebra': 2\n",
      "  'apple': 2\n",
      "  'banana': 1\n",
      "  'cat': 1\n",
      "\n",
      "Custom sort (frequency desc, then alphabetical asc):\n",
      "  'apple': 2\n",
      "  'zebra': 2\n",
      "  'banana': 1\n",
      "  'cat': 1\n",
      "\n",
      "Alternative approach using sorted() directly:\n",
      "Text: 'programming'\n",
      "Counter: Counter({'r': 2, 'g': 2, 'm': 2, 'p': 1, 'o': 1, 'a': 1, 'i': 1, 'n': 1})\n",
      "Sorted result:\n",
      "  'g': 2\n",
      "  'm': 2\n",
      "  'r': 2\n",
      "  'a': 1\n",
      "  'i': 1\n",
      "  'n': 1\n",
      "  'o': 1\n",
      "  'p': 1\n"
     ]
    }
   ],
   "source": [
    "# Custom sorting: frequency descending, then alphabetical ascending\n",
    "from collections import Counter\n",
    "\n",
    "def custom_sort_counter(counter):\n",
    "    \"\"\"\n",
    "    Sort counter items by:\n",
    "    1. Frequency (descending) \n",
    "    2. Element alphabetically (ascending) for ties\n",
    "    \"\"\"\n",
    "    # Sort by (-count, element) - negative count for descending, element for ascending\n",
    "    return sorted(counter.items(), key=lambda x: (-x[1], x[0]))\n",
    "\n",
    "# Example 1: Mixed data with ties\n",
    "text = \"zyxaabbccddee\"\n",
    "counter = Counter(text)\n",
    "\n",
    "print(f\"Text: '{text}'\")\n",
    "print(f\"Counter: {counter}\")\n",
    "print()\n",
    "\n",
    "# Default most_common() - ties by first encounter\n",
    "print(\"Default most_common():\")\n",
    "for item, count in counter.most_common():\n",
    "    print(f\"  '{item}': {count}\")\n",
    "print()\n",
    "\n",
    "# Custom sorting - ties by alphabetical order\n",
    "print(\"Custom sort (frequency desc, then alphabetical asc):\")\n",
    "for item, count in custom_sort_counter(counter):\n",
    "    print(f\"  '{item}': {count}\")\n",
    "print()\n",
    "\n",
    "# Example 2: Word frequency with alphabetical tie-breaking\n",
    "words = [\"zebra\", \"apple\", \"banana\", \"zebra\", \"apple\", \"cat\"]\n",
    "word_counter = Counter(words)\n",
    "\n",
    "print(f\"Words: {words}\")\n",
    "print(f\"Word counter: {word_counter}\")\n",
    "print()\n",
    "\n",
    "print(\"Default most_common():\")\n",
    "for word, count in word_counter.most_common():\n",
    "    print(f\"  '{word}': {count}\")\n",
    "print()\n",
    "\n",
    "print(\"Custom sort (frequency desc, then alphabetical asc):\")\n",
    "for word, count in custom_sort_counter(word_counter):\n",
    "    print(f\"  '{word}': {count}\")\n",
    "print()\n",
    "\n",
    "# Example 3: Using sorted() directly with Counter\n",
    "print(\"Alternative approach using sorted() directly:\")\n",
    "text2 = \"programming\"\n",
    "counter2 = Counter(text2)\n",
    "print(f\"Text: '{text2}'\")\n",
    "print(f\"Counter: {counter2}\")\n",
    "\n",
    "# Sort by frequency (desc) then alphabetically (asc)\n",
    "sorted_items = sorted(counter2.items(), key=lambda x: (-x[1], x[0]))\n",
    "print(\"Sorted result:\")\n",
    "for char, count in sorted_items:\n",
    "    print(f\"  '{char}': {count}\")"
   ]
  },
  {
   "cell_type": "markdown",
   "id": "f955a1e4",
   "metadata": {},
   "source": [
    "### Counter Arithmetic"
   ]
  },
  {
   "cell_type": "code",
   "execution_count": 9,
   "id": "f002da1c",
   "metadata": {},
   "outputs": [
    {
     "name": "stdout",
     "output_type": "stream",
     "text": [
      "c1: Counter({'a': 2, 'b': 1})\n",
      "c2: Counter({'a': 1, 'b': 1, 'c': 1})\n",
      "c1 + c2: Counter({'a': 3, 'b': 2, 'c': 1})\n",
      "c1 - c2: Counter({'a': 1})\n",
      "c1 & c2: Counter({'a': 1, 'b': 1})\n",
      "c1 | c2: Counter({'a': 2, 'b': 1, 'c': 1})\n"
     ]
    }
   ],
   "source": [
    "c1 = Counter('aab')\n",
    "c2 = Counter('abc')\n",
    "\n",
    "print(f\"c1: {c1}\")\n",
    "print(f\"c2: {c2}\")\n",
    "\n",
    "# Addition\n",
    "print(f\"c1 + c2: {c1 + c2}\")\n",
    "\n",
    "# Subtraction\n",
    "print(f\"c1 - c2: {c1 - c2}\")\n",
    "\n",
    "# Intersection (minimum)\n",
    "print(f\"c1 & c2: {c1 & c2}\")\n",
    "\n",
    "# Union (maximum)\n",
    "print(f\"c1 | c2: {c1 | c2}\")"
   ]
  },
  {
   "cell_type": "markdown",
   "id": "dbcb91a4",
   "metadata": {},
   "source": [
    "## Advanced Use Cases\n",
    "\n",
    "### Finding Missing Elements"
   ]
  },
  {
   "cell_type": "code",
   "execution_count": 10,
   "id": "1febce00",
   "metadata": {},
   "outputs": [
    {
     "name": "stdout",
     "output_type": "stream",
     "text": [
      "Expected: Counter({1: 1, 2: 1, 3: 1, 4: 1, 5: 1})\n",
      "Actual: Counter({2: 2, 5: 2, 1: 1, 4: 1})\n",
      "Missing elements: [3]\n",
      "Extra elements: [2, 5]\n",
      "\n",
      "Actual: Counter({2: 2, 5: 2, 1: 1, 4: 1})\n",
      "Missing elements: [3]\n",
      "Extra elements: [2, 5]\n"
     ]
    }
   ],
   "source": [
    "# Find missing elements in a sequence\n",
    "expected = Counter(range(1, 6))  # {1: 1, 2: 1, 3: 1, 4: 1, 5: 1}\n",
    "actual = Counter([1, 2, 2, 4, 5, 5])\n",
    "\n",
    "print(f\"Expected: {expected}\")\n",
    "print(f\"Actual: {actual}\")\n",
    "\n",
    "missing = expected - actual\n",
    "extra = actual - expected\n",
    "\n",
    "print(f\"Missing elements: {list(missing.elements())}\")\n",
    "print(f\"Extra elements: {list(extra.elements())}\")"
   ]
  },
  {
   "cell_type": "markdown",
   "id": "404107c3",
   "metadata": {},
   "source": [
    "### Frequency Analysis"
   ]
  },
  {
   "cell_type": "code",
   "execution_count": 11,
   "id": "91b0fd6f",
   "metadata": {},
   "outputs": [
    {
     "name": "stdout",
     "output_type": "stream",
     "text": [
      "Word frequencies: Counter({'the': 3, 'quick': 2, 'fox': 2, 'brown': 1, 'jumps': 1, 'over': 1, 'lazy': 1, 'dog': 1, 'is': 1})\n",
      "\n",
      "Top 3 most frequent words:\n",
      "  'the': 3 times\n",
      "  'quick': 2 times\n",
      "  'fox': 2 times\n",
      "\n",
      "Words appearing only once: ['brown', 'jumps', 'over', 'lazy', 'dog', 'is']\n"
     ]
    }
   ],
   "source": [
    "# Analyze word frequency in text\n",
    "text = \"the quick brown fox jumps over the lazy dog the fox is quick\"\n",
    "words = text.split()\n",
    "word_freq = Counter(words)\n",
    "\n",
    "print(f\"Word frequencies: {word_freq}\")\n",
    "print(f\"\\nTop 3 most frequent words:\")\n",
    "for word, count in word_freq.most_common(3):\n",
    "    print(f\"  '{word}': {count} times\")\n",
    "\n",
    "# Words that appear only once\n",
    "unique_words = [word for word, count in word_freq.items() if count == 1]\n",
    "print(f\"\\nWords appearing only once: {unique_words}\")"
   ]
  },
  {
   "cell_type": "markdown",
   "id": "7aa2b877",
   "metadata": {},
   "source": [
    "## LeetCode Applications\n",
    "\n",
    "### Example: Valid Anagram Check"
   ]
  },
  {
   "cell_type": "code",
   "execution_count": 12,
   "id": "fedb78f5",
   "metadata": {},
   "outputs": [
    {
     "name": "stdout",
     "output_type": "stream",
     "text": [
      "'listen' and 'silent': True\n",
      "'hello' and 'bello': False\n",
      "'rat' and 'car': False\n"
     ]
    }
   ],
   "source": [
    "def is_anagram(s1, s2):\n",
    "    \"\"\"Check if two strings are anagrams using Counter\"\"\"\n",
    "    return Counter(s1) == Counter(s2)\n",
    "\n",
    "# Test cases\n",
    "print(f\"'listen' and 'silent': {is_anagram('listen', 'silent')}\")\n",
    "print(f\"'hello' and 'bello': {is_anagram('hello', 'bello')}\")\n",
    "print(f\"'rat' and 'car': {is_anagram('rat', 'car')}\")"
   ]
  },
  {
   "cell_type": "markdown",
   "id": "43fc03ff",
   "metadata": {},
   "source": [
    "### Example: First Unique Character"
   ]
  },
  {
   "cell_type": "code",
   "execution_count": 13,
   "id": "384b8de2",
   "metadata": {},
   "outputs": [
    {
     "name": "stdout",
     "output_type": "stream",
     "text": [
      "'leetcode' -> index 0, character: 'l'\n",
      "'loveleetcode' -> index 2, character: 'v'\n",
      "'aabb' -> index -1, character: 'None'\n"
     ]
    }
   ],
   "source": [
    "def first_unique_char(s):\n",
    "    \"\"\"Find the first unique character in a string\"\"\"\n",
    "    char_count = Counter(s)\n",
    "    \n",
    "    for i, char in enumerate(s):\n",
    "        if char_count[char] == 1:\n",
    "            return i\n",
    "    return -1\n",
    "\n",
    "# Test cases\n",
    "test_strings = [\"leetcode\", \"loveleetcode\", \"aabb\"]\n",
    "for s in test_strings:\n",
    "    result = first_unique_char(s)\n",
    "    char = s[result] if result != -1 else \"None\"\n",
    "    print(f\"'{s}' -> index {result}, character: '{char}'\")"
   ]
  },
  {
   "cell_type": "markdown",
   "id": "c65d8491",
   "metadata": {},
   "source": [
    "## Summary\n",
    "\n",
    "### Key Points:\n",
    "\n",
    "1. **Counter** is perfect for counting hashable objects\n",
    "2. It's a subclass of `dict` with additional methods\n",
    "3. Supports arithmetic operations between counters\n",
    "4. Useful methods: `most_common()`, `elements()`, `update()`, `subtract()`\n",
    "5. Great for frequency analysis, anagram detection, and counting problems\n",
    "\n",
    "### When to Use Counter:\n",
    "- Counting frequency of elements\n",
    "- Finding most/least common elements\n",
    "- Comparing frequencies between datasets\n",
    "- Anagram and permutation problems\n",
    "- Statistical analysis of categorical data\n",
    "\n",
    "### Common LeetCode Problems:\n",
    "- Valid Anagram\n",
    "- First Unique Character\n",
    "- Sort Colors (counting approach)\n",
    "- Top K Frequent Elements\n",
    "- Group Anagrams"
   ]
  }
 ],
 "metadata": {
  "kernelspec": {
   "display_name": "Python 3",
   "language": "python",
   "name": "python3"
  },
  "language_info": {
   "codemirror_mode": {
    "name": "ipython",
    "version": 3
   },
   "file_extension": ".py",
   "mimetype": "text/x-python",
   "name": "python",
   "nbconvert_exporter": "python",
   "pygments_lexer": "ipython3",
   "version": "3.12.1"
  }
 },
 "nbformat": 4,
 "nbformat_minor": 5
}
